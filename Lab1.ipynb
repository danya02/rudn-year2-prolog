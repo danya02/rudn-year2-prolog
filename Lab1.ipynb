{
 "cells": [
  {
   "cell_type": "code",
   "execution_count": 1,
   "id": "c55085b2",
   "metadata": {},
   "outputs": [
    {
     "data": {
      "text/plain": [
       "% Asserting clauses for user:hello/1\n"
      ]
     },
     "metadata": {},
     "output_type": "display_data"
    }
   ],
   "source": [
    "hello(world).\n",
    "hello(prolog)."
   ]
  },
  {
   "cell_type": "code",
   "execution_count": null,
   "id": "cf7ab863",
   "metadata": {},
   "outputs": [
    {
     "data": {
      "text/plain": [
       "\u001b[1mX = world"
      ]
     },
     "metadata": {},
     "output_type": "display_data"
    },
    {
     "data": {
      "text/plain": [
       "% Retrying goal: hello(X)\n"
      ]
     },
     "metadata": {},
     "output_type": "display_data"
    },
    {
     "data": {
      "text/plain": [
       "\u001b[1mX = prolog"
      ]
     },
     "metadata": {},
     "output_type": "display_data"
    },
    {
     "data": {
      "text/plain": [
       "% Retrying goal: hello(X)\n"
      ]
     },
     "metadata": {},
     "output_type": "display_data"
    },
    {
     "data": {
      "text/plain": [
       "\u001b[1;31mfalse"
      ]
     },
     "metadata": {},
     "output_type": "display_data"
    }
   ],
   "source": [
    "?- hello(X).\n",
    "?- retry.\n",
    "?- retry."
   ]
  },
  {
   "cell_type": "code",
   "execution_count": 3,
   "id": "dede9d9d",
   "metadata": {},
   "outputs": [],
   "source": [
    "prolog :- forall(\n",
    "    (Goal = hello(X), call(Goal)),\n",
    "    (write(Goal), nl)\n",
    ")."
   ]
  },
  {
   "cell_type": "code",
   "execution_count": 4,
   "id": "35ef7709",
   "metadata": {},
   "outputs": [
    {
     "data": {
      "text/plain": [
       "hello(world)\n",
       "hello(prolog)"
      ]
     },
     "metadata": {},
     "output_type": "display_data"
    },
    {
     "data": {
      "text/plain": [
       "\u001b[1mtrue"
      ]
     },
     "metadata": {},
     "output_type": "display_data"
    }
   ],
   "source": [
    "?- prolog."
   ]
  },
  {
   "cell_type": "code",
   "execution_count": null,
   "id": "dcb3fdd2",
   "metadata": {},
   "outputs": [],
   "source": []
  }
 ],
 "metadata": {
  "kernelspec": {
   "display_name": "Prolog",
   "language": "prolog",
   "name": "prolog_kernel"
  },
  "language_info": {
   "codemirror_mode": "prolog",
   "file_extension": ".pl",
   "mimetype": "text/x-prolog",
   "name": "Prolog"
  }
 },
 "nbformat": 4,
 "nbformat_minor": 5
}
