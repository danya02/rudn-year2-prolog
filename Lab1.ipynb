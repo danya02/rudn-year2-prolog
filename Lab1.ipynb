{
 "cells": [
  {
   "cell_type": "code",
   "execution_count": 1,
   "id": "c55085b2",
   "metadata": {},
   "outputs": [
    {
     "data": {
      "text/plain": [
       "% Asserting clauses for user:product/4\n"
      ]
     },
     "metadata": {},
     "output_type": "display_data"
    },
    {
     "data": {
      "text/plain": [
       "\u001b[1mProducts = [(1,Foobar,metasyntactic,0.99)]"
      ]
     },
     "metadata": {},
     "output_type": "display_data"
    }
   ],
   "source": [
    "% Purchaseable products\n",
    "% product(id, name, category, unit_price).\n",
    "product(1, \"Foobar\", metasyntactic, 0.99) :- true.\n",
    "% TODO: add more\n",
    "?- findall((X,Y,Z,T), product(X,Y,Z,T), Products)."
   ]
  },
  {
   "cell_type": "code",
   "execution_count": 2,
   "id": "cf7ab863",
   "metadata": {},
   "outputs": [
    {
     "data": {
      "text/plain": [
       "% Asserting clauses for user:client/2\n"
      ]
     },
     "metadata": {},
     "output_type": "display_data"
    },
    {
     "data": {
      "text/plain": [
       "\u001b[1mClients = [(Alice,111111),(Bob,222222),(Charlie,333333)]"
      ]
     },
     "metadata": {},
     "output_type": "display_data"
    }
   ],
   "source": [
    "% Clients\n",
    "% client(name, phone_number).\n",
    "client(\"Alice\", 111111) :- true.\n",
    "client(\"Bob\", 222222).\n",
    "client(\"Charlie\", 333333).\n",
    "?- findall((X,Y), client(X,Y), Clients)."
   ]
  },
  {
   "cell_type": "code",
   "execution_count": 3,
   "id": "dede9d9d",
   "metadata": {},
   "outputs": [
    {
     "data": {
      "text/plain": [
       "% Asserting clauses for user:purchase/5\n"
      ]
     },
     "metadata": {},
     "output_type": "display_data"
    },
    {
     "data": {
      "text/plain": [
       "\u001b[1mPurchases = [(1,111111,1,5,1),(2,222222,1,2,1),(3,222222,1,2,2),(4,333333,1,20,3),(5,111111,1,5,4),(6,222222,1,6000,4)]"
      ]
     },
     "metadata": {},
     "output_type": "display_data"
    }
   ],
   "source": [
    "% Purchase transactions\n",
    "% purchase(purchase_id, client_phone, product_id, quantity, day_number).\n",
    "purchase(1, 111111, 1, 5, 1) :- true.\n",
    "purchase(2, 222222, 1, 2, 1).\n",
    "purchase(3, 222222, 1, 2, 2).\n",
    "purchase(4, 333333, 1, 20, 3).\n",
    "purchase(5, 111111, 1, 5, 4).\n",
    "purchase(6, 222222, 1, 6000, 4).\n",
    "\n",
    "?- findall((I,X,Y,Z,T), purchase(I,X,Y,Z,T), Purchases)."
   ]
  },
  {
   "cell_type": "code",
   "execution_count": 4,
   "id": "c0c06182",
   "metadata": {},
   "outputs": [
    {
     "data": {
      "text/plain": [
       "% Asserting clauses for user:tier/2\n"
      ]
     },
     "metadata": {},
     "output_type": "display_data"
    }
   ],
   "source": [
    "% Client tiers, based on how much the client has spent\n",
    "% tier(tier_name, threshold)\n",
    "tier(none, 0) :- true.\n",
    "tier(bronze, 1000).\n",
    "tier(silver, 5000).\n",
    "tier(gold, 10000).\n",
    "tier(platinum, 25000)."
   ]
  },
  {
   "cell_type": "code",
   "execution_count": 5,
   "id": "4bc81861",
   "metadata": {},
   "outputs": [
    {
     "data": {
      "text/plain": [
       "% Asserting clauses for user:repeat_client/1\n"
      ]
     },
     "metadata": {},
     "output_type": "display_data"
    },
    {
     "data": {
      "text/plain": [
       "\u001b[1mRepeatClients = [111111,222222]"
      ]
     },
     "metadata": {},
     "output_type": "display_data"
    }
   ],
   "source": [
    "% A repeat client is defined as a customer who has multiple purchases made on different days.\n",
    "repeat_client(PID) :-\n",
    "    purchase(_,PID, _, _, D1),\n",
    "    purchase(_,PID, _, _, D2),\n",
    "    not(D1 = D2).\n",
    "%    purchase(pid, _f3, _f4, d2).\n",
    "?- findall(X, repeat_client(X), _RC), list_to_set(_RC, RepeatClients)."
   ]
  },
  {
   "cell_type": "code",
   "execution_count": 6,
   "id": "3ebe69cb",
   "metadata": {},
   "outputs": [
    {
     "data": {
      "text/plain": [
       "% Asserting clauses for user:purchase_price/2\n"
      ]
     },
     "metadata": {},
     "output_type": "display_data"
    },
    {
     "data": {
      "text/plain": [
       "\u001b[1mX = 4.95"
      ]
     },
     "metadata": {},
     "output_type": "display_data"
    }
   ],
   "source": [
    "% (internal) The price of a particular purchase is the number of items involved in that purchase,\n",
    "% multiplied by the cost of an item.\n",
    "purchase_price(PurchaseId, PurchasePrice) :-\n",
    "    purchase(PurchaseId, _, ProductId, ProductCount, _),\n",
    "    product(ProductId, _, _, UnitPrice),\n",
    "    PurchasePrice is ProductCount*UnitPrice.\n",
    "?- purchase_price(1, X)."
   ]
  },
  {
   "cell_type": "code",
   "execution_count": 7,
   "id": "265b7219",
   "metadata": {},
   "outputs": [
    {
     "data": {
      "text/plain": [
       "% Asserting clauses for user:day_purchase_prices/2\n"
      ]
     },
     "metadata": {},
     "output_type": "display_data"
    },
    {
     "data": {
      "text/plain": [
       "\u001b[1mP = [(1,4.95),(2,1.98)]"
      ]
     },
     "metadata": {},
     "output_type": "display_data"
    }
   ],
   "source": [
    "% (internal) The list of all purchases on a particular day, along with their prices.\n",
    "day_purchase_prices(Day, Plist) :- \n",
    "    findall(PurchaseId, purchase(PurchaseId, _, _, Count, Day), DayPurchases),  % gather list of all purchases for the day\n",
    "    findall((PurchaseId, PurchasePrice), % then associate purchaseids with a purchaseprice\n",
    "        (\n",
    "            member(PurchaseId, DayPurchases), % for the purchaseids in the purchases of the day only\n",
    "            purchase_price(PurchaseId, PurchasePrice)\n",
    "        ),\n",
    "        Plist).\n",
    "\n",
    "?- day_purchase_prices(1, P)."
   ]
  },
  {
   "cell_type": "code",
   "execution_count": 8,
   "id": "8b877d4e",
   "metadata": {},
   "outputs": [
    {
     "data": {
      "text/plain": [
       "% Asserting clauses for user:cashflow/2\n"
      ]
     },
     "metadata": {},
     "output_type": "display_data"
    },
    {
     "data": {
      "text/plain": [
       "\u001b[1mX = 6.93"
      ]
     },
     "metadata": {},
     "output_type": "display_data"
    }
   ],
   "source": [
    "% The cashflow of a day is defined as the total sum of the purchases made on that day.\n",
    "cashflow(Day, Amount) :-\n",
    "    day_purchase_prices(Day, Plist), % First gather the list of purchases with their costs\n",
    "    findall(Cost, (\n",
    "        member((_, Cost), Plist),  % then extract the second item from each tuple\n",
    "        true\n",
    "    ),AmountList),  % and gather those into a list\n",
    "    sum_list(AmountList, Amount). % which is then folded\n",
    "\n",
    "?- cashflow(1, X)."
   ]
  },
  {
   "cell_type": "code",
   "execution_count": 9,
   "id": "6fc388fa",
   "metadata": {},
   "outputs": [
    {
     "data": {
      "text/plain": [
       "% Asserting clauses for user:client_purchase_prices/2\n"
      ]
     },
     "metadata": {},
     "output_type": "display_data"
    },
    {
     "data": {
      "text/plain": [
       "\u001b[1mX = [(1,4.95),(5,4.95)]"
      ]
     },
     "metadata": {},
     "output_type": "display_data"
    }
   ],
   "source": [
    "% (internal) The list of purchases made by a specific client, along with their prices.\n",
    "client_purchase_prices(Cid, Plist) :- \n",
    "    client(_, Cid),  % There must be a client with this id.\n",
    "    findall(PurchaseId, purchase(PurchaseId, Cid, _, Count, _), ClientPurchases),\n",
    "    findall((PurchaseId, PurchasePrice),\n",
    "        (\n",
    "            member(PurchaseId, ClientPurchases), % for the purchaseids in the purchases of the day only\n",
    "            purchase_price(PurchaseId, PurchasePrice)\n",
    "        ),\n",
    "        Plist).\n",
    "\n",
    "?- client_purchase_prices(111111, X)."
   ]
  },
  {
   "cell_type": "code",
   "execution_count": 10,
   "id": "83b23170",
   "metadata": {},
   "outputs": [
    {
     "data": {
      "text/plain": [
       "% Asserting clauses for user:client_spent/2\n"
      ]
     },
     "metadata": {},
     "output_type": "display_data"
    },
    {
     "data": {
      "text/plain": [
       "\u001b[1mSpendings = [(111111,9.9),(222222,5943.96),(333333,19.8)]"
      ]
     },
     "metadata": {},
     "output_type": "display_data"
    }
   ],
   "source": [
    "% (internal) The total sum paid by the client across all their purchases.\n",
    "client_spent(Cid, Amount) :-\n",
    "    client(_, Cid),  % There must be a client with this id.\n",
    "    client_purchase_prices(Cid, Plist),\n",
    "    findall(Cost, member((_, Cost), Plist), AmtList),\n",
    "    sum_list(AmtList, Amount).\n",
    "?- findall((X,Y), client_spent(X,Y), Spendings)."
   ]
  },
  {
   "cell_type": "code",
   "execution_count": 11,
   "id": "812b531a",
   "metadata": {},
   "outputs": [
    {
     "data": {
      "text/plain": [
       "% Asserting clauses for user:client_tier/2\n"
      ]
     },
     "metadata": {},
     "output_type": "display_data"
    },
    {
     "data": {
      "text/plain": [
       "\u001b[1mCTiers = [(111111,none),(222222,silver),(333333,none)]"
      ]
     },
     "metadata": {},
     "output_type": "display_data"
    }
   ],
   "source": [
    "% The client's tier is defined as the largest tier whose threshold the client's purchase sum has exceeded.\n",
    "client_tier(Cid, Tier) :-\n",
    "    client(_, Cid),  % There must be a client with this id.\n",
    "    client_spent(Cid, Amount),  % Check how much the client spent\n",
    "    findall(PassedTierAmt, \n",
    "    (\n",
    "        tier(_, PassedTierAmt),  % Get all tier amounts\n",
    "        PassedTierAmt =< Amount  % that are smaller than that\n",
    "    ), PassedTierAmts),\n",
    "    max_list(PassedTierAmts, MaxTierAmt),  % then find the largest one\n",
    "    tier(Tier, MaxTierAmt).  % and return the tier corresponding to it\n",
    "    \n",
    "?- findall((X,Y), client_tier(X,Y), CTiers)."
   ]
  },
  {
   "cell_type": "code",
   "execution_count": null,
   "id": "64cf1f38",
   "metadata": {},
   "outputs": [],
   "source": []
  }
 ],
 "metadata": {
  "kernelspec": {
   "display_name": "Prolog",
   "language": "prolog",
   "name": "prolog_kernel"
  },
  "language_info": {
   "codemirror_mode": "prolog",
   "file_extension": ".pl",
   "mimetype": "text/x-prolog",
   "name": "Prolog"
  }
 },
 "nbformat": 4,
 "nbformat_minor": 5
}
