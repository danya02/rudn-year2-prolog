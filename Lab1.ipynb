{
 "cells": [
  {
   "cell_type": "code",
   "execution_count": 1,
   "id": "c55085b2",
   "metadata": {},
   "outputs": [
    {
     "data": {
      "text/plain": [
       "% Asserting clauses for user:product/4\n"
      ]
     },
     "metadata": {},
     "output_type": "display_data"
    },
    {
     "data": {
      "text/plain": [
       "\u001b[1mProducts = [(1,Молоко,Mолочный отдел,120),(2,Творог,Mолочный отдел,230),(3,Сыр,Mолочный отдел,300),(4,Кефир,Mолочный отдел,90),(5,Картофель,Овощи,35),(6,Лук,Овощи,12),(7,Томаты,Овощи,56),(8,Морковь,Овощи,22),(9,Голень куриная,Мясо,21),(10,Свиная шея,Мясо,48),(11,Окорок бараний,Мясо,129),(12,Филе индейки,Мясо,43),(13,Греча,Бакалея,60),(14,Манная крупа,Бакалея,25),(15,Овсяная крупа,Бакалея,105),(16,Рис,Бакалея,95),(17,Сахар,Бакалея,58),(18,Соль,Бакалея,23),(19,Спагетти,Бакалея,120),(20,Мука,Бакалея,120)]"
      ]
     },
     "metadata": {},
     "output_type": "display_data"
    }
   ],
   "source": [
    "% Purchaseable products\n",
    "% product(id, name, category, unit_price).\n",
    "product(1, \"Молоко\",\"Mолочный отдел\", 120):- true.\n",
    "product(2, \"Творог\",\"Mолочный отдел\", 230).\n",
    "product(3, \"Сыр\",\"Mолочный отдел\", 300).\n",
    "product(4, \"Кефир\",\"Mолочный отдел\", 90).\n",
    "\n",
    "product(5, \"Картофель\",\"Овощи\", 35).\n",
    "product(6, \"Лук\",\"Овощи\", 12).\n",
    "product(7, \"Томаты\",\"Овощи\", 56).\n",
    "product(8, \"Морковь\",\"Овощи\", 22).\n",
    "\n",
    "product(9, \"Голень куриная\",\"Мясо\", 21).\n",
    "product(10, \"Свиная шея\",\"Мясо\", 48).\n",
    "product(11, \"Окорок бараний\",\"Мясо\", 129).\n",
    "product(12, \"Филе индейки\",\"Мясо\", 43).\n",
    "\n",
    "product(13, \"Греча\",\"Бакалея\", 60).\n",
    "product(14, \"Манная крупа\",\"Бакалея\", 25).\n",
    "product(15, \"Овсяная крупа\",\"Бакалея\", 105).\n",
    "product(16, \"Рис\",\"Бакалея\", 95).\n",
    "product(17, \"Сахар\",\"Бакалея\", 58).\n",
    "product(18, \"Соль\",\"Бакалея\", 23).\n",
    "product(19, \"Спагетти\",\"Бакалея\", 120).\n",
    "product(20, \"Мука\",\"Бакалея\", 120).\n",
    "?- findall((X,Y,Z,T), product(X,Y,Z,T), Products)."
   ]
  },
  {
   "cell_type": "code",
   "execution_count": 2,
   "id": "cf7ab863",
   "metadata": {},
   "outputs": [
    {
     "data": {
      "text/plain": [
       "% Asserting clauses for user:client/2\n"
      ]
     },
     "metadata": {},
     "output_type": "display_data"
    }
   ],
   "source": [
    "% Clients\n",
    "% client(name, phone_number).\n",
    "client(\"Анна Иванова\", \"+7 999 123 45 67\") :- true.\n",
    "client(\"Илья Петров\", \"+7 926 987 65 43\").\n",
    "client(\"Елена Сидорова\", \"+7 925 555 44 33\").\n",
    "client(\"Сергей Кузнецов\", \"+7 965 432 10 98\").\n",
    "?- findall((X,Y), client(X,Y), Clients)."
   ]
  },
  {
   "cell_type": "code",
   "execution_count": 3,
   "id": "dede9d9d",
   "metadata": {},
   "outputs": [
    {
     "data": {
      "text/plain": [
       "% Asserting clauses for user:purchase/5\n"
      ]
     },
     "metadata": {},
     "output_type": "display_data"
    },
    {
     "data": {
      "text/plain": [
       "\u001b[1mPurchases = [(1,+7 999 123 45 67,3,1,12),(2,+7 999 123 45 67,5,3,12),(3,+7 999 123 45 67,6,2,12),(4,+7 999 123 45 67,12,6,13),(5,+7 999 123 45 67,14,1,13),(6,+7 999 123 45 67,17,1,13),(7,+7 999 123 45 67,3,1,15),(8,+7 999 123 45 67,5,4,15),(9,+7 999 123 45 67,4,1,15),(10,+7 999 123 45 67,12,5,15),(11,+7 999 123 45 67,1,1,15),(12,+7 999 123 45 67,15,1,15),(13,+7 999 123 45 67,20,1,15),(14,+7 926 987 65 43,1,2,19),(15,+7 926 987 65 43,2,2,19),(16,+7 926 987 65 43,3,1,19),(17,+7 926 987 65 43,6,1,19),(18,+7 926 987 65 43,10,5,19),(19,+7 926 987 65 43,16,1,19),(20,+7 925 555 44 33,2,2,20),(21,+7 925 555 44 33,7,3,20),(22,+7 925 555 44 33,8,2,20),(23,+7 925 555 44 33,12,3,20),(24,+7 925 555 44 33,8,2,20),(25,+7 925 555 44 33,12,3,20),(26,+7 925 555 44 33,19,3,20),(27,+7 965 432 10 98,3,1,19),(28,+7 965 432 10 98,4,1,19),(29,+7 965 432 10 98,6,4,19),(30,+7 965 432 10 98,8,3,19),(31,+7 965 432 10 98,2,3,19),(32,+7 965 432 10 98,5,3,19),(33,+7 965 432 10 98,15,1,19),(34,+7 965 432 10 98,1,3,20),(35,+7 965 432 10 98,5,3,20),(36,+7 965 432 10 98,1,3,20),(37,+7 965 432 10 98,6,4,20),(38,+7 965 432 10 98,6,3,20),(39,+7 965 432 10 98,8,2,20),(40,+7 965 432 10 98,17,2,20),(41,+7 965 432 10 98,13,1,20),(42,+7 965 432 10 98,20,1,20),(43,+7 999 123 45 67,2,1,20),(44,+7 999 123 45 67,3,1,20),(45,+7 999 123 45 67,6,4,20),(46,+7 999 123 45 67,10,3,20),(47,+7 965 432 10 98,1,2,20),(48,+7 965 432 10 98,3,1,20),(49,+7 965 432 10 98,4,3,20),(50,+7 965 432 10 98,20,1,20),(51,+7 965 432 10 98,1,2,20),(52,+7 926 987 65 43,2,1,23),(53,+7 926 987 65 43,5,4,23),(54,+7 926 987 65 43,9,4,23),(55,+7 926 987 65 43,12,1,23),(56,+7 926 987 65 43,16,1,23),(57,+7 926 987 65 43,18,1,23),(58,+7 926 987 65 43,4,1,24),(59,+7 965 432 10 98,6,2,24),(60,+7 965 432 10 98,19,2,24)]"
      ]
     },
     "metadata": {},
     "output_type": "display_data"
    }
   ],
   "source": [
    "% Purchase transactions\n",
    "% purchase(purchase_id, client_phone, product_id, quantity, day_number).\n",
    "purchase(1, \"+7 999 123 45 67\", 3, 1, 12).\n",
    "purchase(2, \"+7 999 123 45 67\", 5, 3, 12).\n",
    "purchase(3, \"+7 999 123 45 67\", 6, 2, 12).\n",
    "\n",
    "purchase(4, \"+7 999 123 45 67\", 12, 6, 13).\n",
    "purchase(5, \"+7 999 123 45 67\", 14, 1, 13).\n",
    "purchase(6, \"+7 999 123 45 67\", 17, 1, 13).\n",
    "\n",
    "purchase(7, \"+7 999 123 45 67\", 3, 1, 15).\n",
    "purchase(8, \"+7 999 123 45 67\", 5, 4, 15).\n",
    "purchase(9, \"+7 999 123 45 67\", 4, 1, 15).\n",
    "purchase(10, \"+7 999 123 45 67\", 12, 5, 15).\n",
    "purchase(11, \"+7 999 123 45 67\", 1, 1, 15).\n",
    "purchase(12, \"+7 999 123 45 67\", 15, 1, 15).\n",
    "purchase(13, \"+7 999 123 45 67\", 20, 1, 15).\n",
    "\n",
    "purchase(14, \"+7 926 987 65 43\", 1, 2, 19).\n",
    "purchase(15, \"+7 926 987 65 43\", 2, 2, 19).\n",
    "purchase(16, \"+7 926 987 65 43\", 3, 1, 19).\n",
    "purchase(17, \"+7 926 987 65 43\", 6, 1, 19).\n",
    "purchase(18, \"+7 926 987 65 43\", 10, 5, 19).\n",
    "purchase(19, \"+7 926 987 65 43\", 16, 1, 19).\n",
    "\n",
    "purchase(20, \"+7 925 555 44 33\", 2, 2, 20).\n",
    "purchase(21, \"+7 925 555 44 33\", 7, 3, 20).\n",
    "purchase(22, \"+7 925 555 44 33\", 8, 2, 20).\n",
    "purchase(23, \"+7 925 555 44 33\", 12, 3, 20).\n",
    "purchase(24, \"+7 925 555 44 33\", 8, 2, 20).\n",
    "purchase(25, \"+7 925 555 44 33\", 12, 3, 20).\n",
    "purchase(26, \"+7 925 555 44 33\", 19, 3, 20).\n",
    "\n",
    "purchase(27, \"+7 965 432 10 98\", 3, 1, 19).\n",
    "purchase(28, \"+7 965 432 10 98\", 4, 1, 19).\n",
    "purchase(29, \"+7 965 432 10 98\", 6, 4, 19).\n",
    "purchase(30, \"+7 965 432 10 98\", 8, 3, 19).\n",
    "purchase(31, \"+7 965 432 10 98\", 2, 3, 19).\n",
    "purchase(32, \"+7 965 432 10 98\", 5, 3, 19).\n",
    "purchase(33, \"+7 965 432 10 98\", 15, 1, 19).\n",
    "\n",
    "purchase(34, \"+7 965 432 10 98\", 1, 3, 20).\n",
    "purchase(35, \"+7 965 432 10 98\", 5, 3, 20).\n",
    "purchase(36, \"+7 965 432 10 98\", 1, 3, 20).\n",
    "purchase(37, \"+7 965 432 10 98\", 6, 4, 20).\n",
    "purchase(38, \"+7 965 432 10 98\", 6, 3, 20).\n",
    "purchase(39, \"+7 965 432 10 98\", 8, 2, 20).\n",
    "purchase(40, \"+7 965 432 10 98\", 17, 2, 20).\n",
    "\n",
    "purchase(41, \"+7 965 432 10 98\", 13, 1, 20).\n",
    "purchase(42, \"+7 965 432 10 98\", 20, 1, 20).\n",
    "\n",
    "purchase(43, \"+7 999 123 45 67\", 2, 1, 20).\n",
    "purchase(44, \"+7 999 123 45 67\", 3, 1, 20).\n",
    "purchase(45, \"+7 999 123 45 67\", 6, 4, 20).\n",
    "purchase(46, \"+7 999 123 45 67\", 10, 3, 20).\n",
    "\n",
    "purchase(47, \"+7 965 432 10 98\",1, 2, 20).\n",
    "purchase(48, \"+7 965 432 10 98\",3, 1, 20).\n",
    "purchase(49, \"+7 965 432 10 98\", 4, 3, 20).\n",
    "purchase(50, \"+7 965 432 10 98\", 20, 1, 20).\n",
    "purchase(51, \"+7 965 432 10 98\", 1, 2, 20).\n",
    "\n",
    "purchase(52, \"+7 926 987 65 43\", 2, 1, 23).\n",
    "purchase(53, \"+7 926 987 65 43\", 5, 4, 23).\n",
    "purchase(54, \"+7 926 987 65 43\", 9, 4, 23).\n",
    "purchase(55, \"+7 926 987 65 43\", 12, 1, 23).\n",
    "purchase(56, \"+7 926 987 65 43\", 16, 1, 23).\n",
    "purchase(57, \"+7 926 987 65 43\", 18, 1, 23).\n",
    "\n",
    "purchase(58, \"+7 926 987 65 43\", 4, 1, 24).\n",
    "purchase(59, \"+7 965 432 10 98\", 6, 2, 24).\n",
    "purchase(60, \"+7 965 432 10 98\", 19, 2, 24).\n",
    "\n",
    "?- findall((I,X,Y,Z,T), purchase(I,X,Y,Z,T), Purchases)."
   ]
  },
  {
   "cell_type": "code",
   "execution_count": 4,
   "id": "c0c06182",
   "metadata": {},
   "outputs": [
    {
     "data": {
      "text/plain": [
       "% Asserting clauses for user:tier/2\n"
      ]
     },
     "metadata": {},
     "output_type": "display_data"
    }
   ],
   "source": [
    "% Client tiers, based on how much the client has spent\n",
    "% tier(tier_name, threshold)\n",
    "tier(none, 0) :- true.\n",
    "tier(bronze, 1000).\n",
    "tier(silver, 2000).\n",
    "tier(gold, 3000).\n",
    "tier(platinum, 4000)."
   ]
  },
  {
   "cell_type": "code",
   "execution_count": 5,
   "id": "4bc81861",
   "metadata": {},
   "outputs": [
    {
     "data": {
      "text/plain": [
       "% Asserting clauses for user:repeat_client/1\n"
      ]
     },
     "metadata": {},
     "output_type": "display_data"
    },
    {
     "data": {
      "text/plain": [
       "\u001b[1mRepeatClients = [+7 999 123 45 67,+7 926 987 65 43,+7 965 432 10 98]"
      ]
     },
     "metadata": {},
     "output_type": "display_data"
    }
   ],
   "source": [
    "% A repeat client is defined as a customer who has multiple purchases made on different days.\n",
    "repeat_client(PID) :-\n",
    "    purchase(_,PID, _, _, D1),\n",
    "    purchase(_,PID, _, _, D2),\n",
    "    not(D1 = D2).\n",
    "%    purchase(pid, _f3, _f4, d2).\n",
    "?- findall(X, repeat_client(X), _RC), list_to_set(_RC, RepeatClients)."
   ]
  },
  {
   "cell_type": "code",
   "execution_count": 6,
   "id": "3ebe69cb",
   "metadata": {},
   "outputs": [
    {
     "data": {
      "text/plain": [
       "% Asserting clauses for user:purchase_price/2\n"
      ]
     },
     "metadata": {},
     "output_type": "display_data"
    },
    {
     "data": {
      "text/plain": [
       "\u001b[1mX = 300"
      ]
     },
     "metadata": {},
     "output_type": "display_data"
    }
   ],
   "source": [
    "% (internal) The price of a particular purchase is the number of items involved in that purchase,\n",
    "% multiplied by the cost of an item.\n",
    "purchase_price(PurchaseId, PurchasePrice) :-\n",
    "    purchase(PurchaseId, _, ProductId, ProductCount, _),\n",
    "    product(ProductId, _, _, UnitPrice),\n",
    "    PurchasePrice is ProductCount*UnitPrice.\n",
    "?- purchase_price(1, X)."
   ]
  },
  {
   "cell_type": "code",
   "execution_count": 7,
   "id": "265b7219",
   "metadata": {},
   "outputs": [
    {
     "data": {
      "text/plain": [
       "% Asserting clauses for user:day_purchase_prices/2\n"
      ]
     },
     "metadata": {},
     "output_type": "display_data"
    },
    {
     "data": {
      "text/plain": [
       "\u001b[1mP = [(1,300),(2,105),(3,24)]"
      ]
     },
     "metadata": {},
     "output_type": "display_data"
    }
   ],
   "source": [
    "% (internal) The list of all purchases on a particular day, along with their prices.\n",
    "day_purchase_prices(Day, Plist) :- \n",
    "    findall(PurchaseId, purchase(PurchaseId, _, _, Count, Day), DayPurchases),  % gather list of all purchases for the day\n",
    "    findall((PurchaseId, PurchasePrice), % then associate purchaseids with a purchaseprice\n",
    "        (\n",
    "            member(PurchaseId, DayPurchases), % for the purchaseids in the purchases of the day only\n",
    "            purchase_price(PurchaseId, PurchasePrice)\n",
    "        ),\n",
    "        Plist).\n",
    "\n",
    "?- day_purchase_prices(12, P)."
   ]
  },
  {
   "cell_type": "code",
   "execution_count": 8,
   "id": "8b877d4e",
   "metadata": {},
   "outputs": [
    {
     "data": {
      "text/plain": [
       "% Asserting clauses for user:cashflow/2\n"
      ]
     },
     "metadata": {},
     "output_type": "display_data"
    },
    {
     "data": {
      "text/plain": [
       "\u001b[1mX = 429"
      ]
     },
     "metadata": {},
     "output_type": "display_data"
    }
   ],
   "source": [
    "% The cashflow of a day is defined as the total sum of the purchases made on that day.\n",
    "cashflow(Day, Amount) :-\n",
    "    day_purchase_prices(Day, Plist), % First gather the list of purchases with their costs\n",
    "    findall(Cost, (\n",
    "        member((_, Cost), Plist),  % then extract the second item from each tuple\n",
    "        true\n",
    "    ),AmountList),  % and gather those into a list\n",
    "    sum_list(AmountList, Amount). % which is then folded\n",
    "\n",
    "?- cashflow(12, X)."
   ]
  },
  {
   "cell_type": "code",
   "execution_count": 9,
   "id": "6fc388fa",
   "metadata": {},
   "outputs": [
    {
     "data": {
      "text/plain": [
       "% Asserting clauses for user:client_purchase_prices/2\n"
      ]
     },
     "metadata": {},
     "output_type": "display_data"
    },
    {
     "data": {
      "text/plain": [
       "\u001b[1mX = [(1,300),(2,105),(3,24),(4,258),(5,25),(6,58),(7,300),(8,140),(9,90),(10,215),(11,120),(12,105),(13,120),(43,230),(44,300),(45,48),(46,144)]"
      ]
     },
     "metadata": {},
     "output_type": "display_data"
    }
   ],
   "source": [
    "% (internal) The list of purchases made by a specific client, along with their prices.\n",
    "client_purchase_prices(Cid, Plist) :- \n",
    "    client(_, Cid),  % There must be a client with this id.\n",
    "    findall(PurchaseId, purchase(PurchaseId, Cid, _, Count, _), ClientPurchases),\n",
    "    findall((PurchaseId, PurchasePrice),\n",
    "        (\n",
    "            member(PurchaseId, ClientPurchases), % for the purchaseids in the purchases of the day only\n",
    "            purchase_price(PurchaseId, PurchasePrice)\n",
    "        ),\n",
    "        Plist).\n",
    "\n",
    "?- client_purchase_prices(\"+7 999 123 45 67\", X)."
   ]
  },
  {
   "cell_type": "code",
   "execution_count": 10,
   "id": "83b23170",
   "metadata": {},
   "outputs": [
    {
     "data": {
      "text/plain": [
       "% Asserting clauses for user:client_spent/2\n"
      ]
     },
     "metadata": {},
     "output_type": "display_data"
    },
    {
     "data": {
      "text/plain": [
       "\u001b[1mSpendings = [(+7 999 123 45 67,2582),(+7 926 987 65 43,2052),(+7 925 555 44 33,1334),(+7 965 432 10 98,4087)]"
      ]
     },
     "metadata": {},
     "output_type": "display_data"
    }
   ],
   "source": [
    "% The total sum paid by the client across all their purchases.\n",
    "client_spent(Cid, Amount) :-\n",
    "    client(_, Cid),  % There must be a client with this id.\n",
    "    client_purchase_prices(Cid, Plist),\n",
    "    findall(Cost, member((_, Cost), Plist), AmtList),\n",
    "    sum_list(AmtList, Amount).\n",
    "?- findall((X,Y), client_spent(X,Y), Spendings)."
   ]
  },
  {
   "cell_type": "code",
   "execution_count": 11,
   "id": "812b531a",
   "metadata": {},
   "outputs": [
    {
     "data": {
      "text/plain": [
       "% Asserting clauses for user:client_tier/2\n"
      ]
     },
     "metadata": {},
     "output_type": "display_data"
    },
    {
     "data": {
      "text/plain": [
       "\u001b[1mCTiers = [(+7 999 123 45 67,silver),(+7 926 987 65 43,silver),(+7 925 555 44 33,bronze),(+7 965 432 10 98,platinum)]"
      ]
     },
     "metadata": {},
     "output_type": "display_data"
    }
   ],
   "source": [
    "% The client's tier is defined as the largest tier whose threshold the client's purchase sum has exceeded.\n",
    "client_tier(Cid, Tier) :-\n",
    "    client(_, Cid),  % There must be a client with this id.\n",
    "    client_spent(Cid, Amount),  % Check how much the client spent\n",
    "    findall(PassedTierAmt, \n",
    "    (\n",
    "        tier(_, PassedTierAmt),  % Get all tier amounts\n",
    "        PassedTierAmt =< Amount  % that are smaller than that\n",
    "    ), PassedTierAmts),\n",
    "    max_list(PassedTierAmts, MaxTierAmt),  % then find the largest one\n",
    "    tier(Tier, MaxTierAmt).  % and return the tier corresponding to it\n",
    "    \n",
    "?- findall((X,Y), client_tier(X,Y), CTiers)."
   ]
  },
  {
   "cell_type": "code",
   "execution_count": 12,
   "id": "64cf1f38",
   "metadata": {},
   "outputs": [
    {
     "data": {
      "text/plain": [
       "% Asserting clauses for user:products_per_day/2\n"
      ]
     },
     "metadata": {},
     "output_type": "display_data"
    },
    {
     "data": {
      "text/plain": [
       "\u001b[1mX = [Филе индейки,Манная крупа,Сахар]"
      ]
     },
     "metadata": {},
     "output_type": "display_data"
    }
   ],
   "source": [
    "% The list of products per day is defined as the list of product names that feature in purchases for that day\n",
    "products_per_day(Day, ProductList) :- \n",
    "    findall(ProductId, purchase(_,_,ProductId,_,Day), ProductIdList),  % gather IDs\n",
    "    findall(ProductName, (\n",
    "        product(Id, ProductName, _, _),  % then convert ID to name\n",
    "        member(Id, ProductIdList)\n",
    "    ), ProductList).\n",
    "?- products_per_day(13, X)."
   ]
  },
  {
   "cell_type": "code",
   "execution_count": 13,
   "id": "a1838794",
   "metadata": {},
   "outputs": [
    {
     "data": {
      "text/plain": [
       "% Asserting clauses for user:buyers_of_product/2\n"
      ]
     },
     "metadata": {},
     "output_type": "display_data"
    },
    {
     "data": {
      "text/plain": [
       "\u001b[1mAnswers = [(1,[Анна Иванова,Илья Петров,Сергей Кузнецов])]"
      ]
     },
     "metadata": {},
     "output_type": "display_data"
    },
    {
     "data": {
      "text/plain": [
       "\u001b[1mAnswers = [(20,[Анна Иванова,Сергей Кузнецов])]"
      ]
     },
     "metadata": {},
     "output_type": "display_data"
    }
   ],
   "source": [
    "% The list of clients per product is defined as the list of names of the clients for whom there exists a purchase\n",
    "% for the product with the given ID.\n",
    "buyers_of_product(Pid, Buyers) :- \n",
    "    findall(BuyerId, purchase(_, BuyerId, Pid, _, _), BuyerIds),  % gather list of buyer IDs\n",
    "    list_to_set(BuyerIds, UniqBuyerIds),  % uniquify\n",
    "    findall(Name, (\n",
    "        client(Name, Bid),  % to names\n",
    "        member(Bid, UniqBuyerIds)\n",
    "    ), Buyers).\n",
    "\n",
    "?- findall((1, Names), buyers_of_product(1, Names), Answers).\n",
    "?- findall((20, Names), buyers_of_product(20, Names), Answers)."
   ]
  },
  {
   "cell_type": "code",
   "execution_count": 14,
   "id": "2b323514",
   "metadata": {},
   "outputs": [
    {
     "data": {
      "text/plain": [
       "% Asserting clauses for user:categories_by_client/2\n"
      ]
     },
     "metadata": {},
     "output_type": "display_data"
    },
    {
     "data": {
      "text/plain": [
       "\u001b[1mAnswers = [(+7 999 123 45 67,[Mолочный отдел,Овощи,Мясо,Бакалея]),(+7 926 987 65 43,[Mолочный отдел,Овощи,Мясо,Бакалея]),(+7 925 555 44 33,[Mолочный отдел,Овощи,Мясо,Бакалея]),(+7 965 432 10 98,[Mолочный отдел,Овощи,Бакалея])]"
      ]
     },
     "metadata": {},
     "output_type": "display_data"
    }
   ],
   "source": [
    "% The list of categories by client is defined as the list of product categories that this client has bought.\n",
    "categories_by_client(Cid, Cats) :-\n",
    "    findall(ProductId, purchase(_, Cid, ProductId, _, _), ProductIds), % Gather list of categories\n",
    "    findall(Cat, (\n",
    "        member(Pid, ProductIds),  % for every product\n",
    "        product(Pid, _, Cat, _)   % find its category\n",
    "    ), CatsMultiple),\n",
    "    list_to_set(CatsMultiple, Cats).\n",
    "?- findall((Cid, Cats), (client(_, Cid), categories_by_client(Cid, Cats)), Answers)."
   ]
  },
  {
   "cell_type": "code",
   "execution_count": 15,
   "id": "74812f2f",
   "metadata": {},
   "outputs": [
    {
     "data": {
      "text/plain": [
       "% Asserting clauses for user:example1/0\n"
      ]
     },
     "metadata": {},
     "output_type": "display_data"
    }
   ],
   "source": [
    "% ------ Examples ------\n",
    "example1:-\n",
    "    writeln(\"---- Example 1 ----\"),\n",
    "    writeln(\"Get list of repeat clients:\"),\n",
    "    setof(RepC, repeat_client(RepC), RepeatClients),\n",
    "    writeln(RepeatClients)."
   ]
  },
  {
   "cell_type": "code",
   "execution_count": 16,
   "id": "60f04986",
   "metadata": {},
   "outputs": [
    {
     "data": {
      "text/plain": [
       "% Asserting clauses for user:example2/0\n"
      ]
     },
     "metadata": {},
     "output_type": "display_data"
    }
   ],
   "source": [
    "example2 :-\n",
    "    writeln(\"---- Example 2 ----\"),\n",
    "    writeln(\"Get each client's total spending and tier:\"),\n",
    "    (\n",
    "        client(Name, Id),\n",
    "        write(Name), write(\":\"),\n",
    "        client_spent(Id, Spent),\n",
    "        write(Spent), write(\":\"),\n",
    "        client_tier(Id, Tier),\n",
    "        write(Tier),\n",
    "        nl,\n",
    "        fail()\n",
    "    );\n",
    "    true."
   ]
  },
  {
   "cell_type": "code",
   "execution_count": 17,
   "id": "023f01cd",
   "metadata": {},
   "outputs": [
    {
     "data": {
      "text/plain": [
       "% Asserting clauses for user:example3/0\n"
      ]
     },
     "metadata": {},
     "output_type": "display_data"
    }
   ],
   "source": [
    "example3 :-\n",
    "    writeln(\"---- Example 3 ----\"),\n",
    "    writeln(\"Get the products purchased on every day:\"),\n",
    "    findall(Day,purchase(_,_,_,_,Day), DaysMulti),\n",
    "    list_to_set(DaysMulti, Days),\n",
    "    (\n",
    "        member(Day, Days),\n",
    "        products_per_day(Day, ProductsMulti),\n",
    "        list_to_set(ProductsMulti, Products),\n",
    "        write(Day), write(\":\"), write(Products), nl, fail()\n",
    "    );\n",
    "    true."
   ]
  },
  {
   "cell_type": "code",
   "execution_count": 18,
   "id": "5e0a2ad5",
   "metadata": {},
   "outputs": [
    {
     "data": {
      "text/plain": [
       "% Asserting clauses for user:example4/0\n"
      ]
     },
     "metadata": {},
     "output_type": "display_data"
    }
   ],
   "source": [
    "example4 :-\n",
    "    writeln(\"---- Example 4 ----\"),\n",
    "    writeln(\"Get the cashflow for every day:\"),\n",
    "    findall(Day,purchase(_,_,_,_,Day), DaysMulti),\n",
    "    list_to_set(DaysMulti, Days),\n",
    "    (\n",
    "        member(Day, Days),\n",
    "        cashflow(Day, Cash),\n",
    "        write(Day), write(\":\"), write(Cash), nl, fail()\n",
    "    );\n",
    "    true."
   ]
  },
  {
   "cell_type": "code",
   "execution_count": 19,
   "id": "531d8777",
   "metadata": {},
   "outputs": [
    {
     "data": {
      "text/plain": [
       "% Asserting clauses for user:example5/0\n"
      ]
     },
     "metadata": {},
     "output_type": "display_data"
    }
   ],
   "source": [
    "example5 :-\n",
    "    writeln(\"---- Example 5 ----\"),\n",
    "    writeln(\"Get the categories of product purchased by every client:\"),\n",
    "    writeln(\"(the last client does not purchase meat products)\"),\n",
    "    (\n",
    "        client(ClientName, Cid),\n",
    "        categories_by_client(Cid, Cats),\n",
    "        write(ClientName), write(\":\"), write(Cats), nl, fail()\n",
    "    );\n",
    "    true."
   ]
  },
  {
   "cell_type": "code",
   "execution_count": 20,
   "id": "b11ff53e",
   "metadata": {},
   "outputs": [
    {
     "data": {
      "text/plain": [
       "---- Example 1 ----\n",
       "Get list of repeat clients:\n",
       "[+7 926 987 65 43,+7 965 432 10 98,+7 999 123 45 67]\n",
       "---- Example 2 ----\n",
       "Get each client's total spending and tier:\n",
       "Анна Иванова:2582:silver\n",
       "Илья Петров:2052:silver\n",
       "Елена Сидорова:1334:bronze\n",
       "Сергей Кузнецов:4087:platinum\n",
       "---- Example 3 ----\n",
       "Get the products purchased on every day:\n",
       "12:[Сыр,Картофель,Лук]\n",
       "13:[Филе индейки,Манная крупа,Сахар]\n",
       "15:[Молоко,Сыр,Кефир,Картофель,Филе индейки,Овсяная крупа,Мука]\n",
       "19:[Молоко,Творог,Сыр,Кефир,Картофель,Лук,Морковь,Свиная шея,Овсяная крупа,Рис]\n",
       "20:[Молоко,Творог,Сыр,Кефир,Картофель,Лук,Томаты,Морковь,Свиная шея,Филе индейки,Греча,Сахар,Спагетти,Мука]\n",
       "23:[Творог,Картофель,Голень куриная,Филе индейки,Рис,Соль]\n",
       "24:[Кефир,Лук,Спагетти]\n",
       "---- Example 4 ----\n",
       "Get the cashflow for every day:\n",
       "12:429\n",
       "13:341\n",
       "15:1090\n",
       "19:2751\n",
       "20:4475\n",
       "23:615\n",
       "24:354\n",
       "---- Example 5 ----\n",
       "Get the categories of product purchased by every client:\n",
       "(the last client does not purchase meat products)\n",
       "Анна Иванова:[Mолочный отдел,Овощи,Мясо,Бакалея]\n",
       "Илья Петров:[Mолочный отдел,Овощи,Мясо,Бакалея]\n",
       "Елена Сидорова:[Mолочный отдел,Овощи,Мясо,Бакалея]\n",
       "Сергей Кузнецов:[Mолочный отдел,Овощи,Бакалея]"
      ]
     },
     "metadata": {},
     "output_type": "display_data"
    },
    {
     "data": {
      "text/plain": [
       "\u001b[1mtrue"
      ]
     },
     "metadata": {},
     "output_type": "display_data"
    }
   ],
   "source": [
    "prolog :-\n",
    "    example1,\n",
    "    example2,\n",
    "    example3,\n",
    "    example4,\n",
    "    example5."
   ]
  },
  {
   "cell_type": "code",
   "execution_count": null,
   "id": "36db2004",
   "metadata": {},
   "outputs": [],
   "source": []
  },
  {
   "cell_type": "code",
   "execution_count": null,
   "id": "6b95a00b",
   "metadata": {},
   "outputs": [],
   "source": []
  }
 ],
 "metadata": {
  "kernelspec": {
   "display_name": "Prolog",
   "language": "prolog",
   "name": "prolog_kernel"
  },
  "language_info": {
   "codemirror_mode": "prolog",
   "file_extension": ".pl",
   "mimetype": "text/x-prolog",
   "name": "Prolog"
  }
 },
 "nbformat": 4,
 "nbformat_minor": 5
}
