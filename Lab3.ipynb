{
 "cells": [
  {
   "cell_type": "code",
   "execution_count": 188,
   "id": "c55085b2",
   "metadata": {},
   "outputs": [
    {
     "data": {
      "text/plain": [
       "\u001b[1;31m% The Prolog server was restarted"
      ]
     },
     "metadata": {},
     "output_type": "display_data"
    },
    {
     "data": {
      "text/plain": [
       "\u001b[1mtrue"
      ]
     },
     "metadata": {},
     "output_type": "display_data"
    },
    {
     "data": {
      "text/plain": [
       "\u001b[1mProducts = [product_info{category:Mолочный отдел,cost:120,id:1,name:Молоко},product_info{category:Mолочный отдел,cost:230,id:2,name:Творог},product_info{category:Mолочный отдел,cost:300,id:3,name:Сыр},product_info{category:Mолочный отдел,cost:90,id:4,name:Кефир},product_info{category:Овощи,cost:35,id:5,name:Картофель},product_info{category:Овощи,cost:12,id:6,name:Лук},product_info{category:Овощи,cost:56,id:7,name:Томаты},product_info{category:Овощи,cost:22,id:8,name:Морковь},product_info{category:Мясо,cost:21,id:9,name:Голень куриная},product_info{category:Мясо,cost:48,id:10,name:Свиная шея},product_info{category:Мясо,cost:129,id:11,name:Окорок бараний},product_info{category:Мясо,cost:43,id:12,name:Филе индейки},product_info{category:Бакалея,cost:60,id:13,name:Греча},product_info{category:Бакалея,cost:25,id:14,name:Манная крупа},product_info{category:Бакалея,cost:105,id:15,name:Овсяная крупа},product_info{category:Бакалея,cost:95,id:16,name:Рис},product_info{category:Бакалея,cost:58,id:17,name:Сахар},product_info{category:Бакалея,cost:23,id:18,name:Соль},product_info{category:Бакалея,cost:120,id:19,name:Спагетти},product_info{category:Бакалея,cost:120,id:20,name:Мука}]"
      ]
     },
     "metadata": {},
     "output_type": "display_data"
    }
   ],
   "source": [
    "% Purchaseable products\n",
    "% product(product_info{id:id, name:name, category:category, cost:unit_price}).\n",
    "\n",
    "% Clients\n",
    "% client(client_info{name:name, phone:phone_number}).\n",
    "\n",
    "% Purchase transactions\n",
    "% purchase(purchase_info{id:purchase_id, phone:client_phone, product_id:product_id, quantity:quantity, day_number:day_number}).\n",
    "\n",
    "% Client tiers, based on how much the client has spent\n",
    "% tier(tier_name, threshold)\n",
    "\n",
    "% This line is for interactive use.\n",
    "\n",
    ":- dynamic product/1.\n",
    ":- dynamic purchase/1.\n",
    ":- dynamic client/1.\n",
    "\n",
    "\n",
    "?- consult(\"DATABASE-ver2.plfact\").\n",
    "\n",
    "% This line adds an invocation to the main program target.\n",
    "% The main program will be defined after this.\n",
    "prolog :- \n",
    "    consult(\"DATABASE-ver2.plfact\"),\n",
    "    fail.\n",
    "\n",
    "?- findall(Info, product(Info), Products)."
   ]
  },
  {
   "cell_type": "code",
   "execution_count": 189,
   "id": "4bc81861",
   "metadata": {},
   "outputs": [
    {
     "data": {
      "text/plain": [
       "% Asserting clauses for user:repeat_client/1\n"
      ]
     },
     "metadata": {},
     "output_type": "display_data"
    },
    {
     "data": {
      "text/plain": [
       "\u001b[1mRepeatClients = [+7 999 123 45 67,+7 926 987 65 43,+7 965 432 10 98]"
      ]
     },
     "metadata": {},
     "output_type": "display_data"
    }
   ],
   "source": [
    "% A repeat client is defined as a customer who has multiple purchases made on different days.\n",
    "repeat_client(PID) :-\n",
    "    purchase(P1), _{phone:PID, day_number: D1} :< P1,\n",
    "    purchase(P2), _{phone:PID, day_number: D2} :< P2,\n",
    "    not(D1 = D2).\n",
    "%    purchase(pid, _f3, _f4, d2).\n",
    "?- findall(X, repeat_client(X), _RC), list_to_set(_RC, RepeatClients)."
   ]
  },
  {
   "cell_type": "code",
   "execution_count": 190,
   "id": "3ebe69cb",
   "metadata": {},
   "outputs": [
    {
     "data": {
      "text/plain": [
       "% Asserting clauses for user:purchase_price/2\n"
      ]
     },
     "metadata": {},
     "output_type": "display_data"
    },
    {
     "data": {
      "text/plain": [
       "\u001b[1mX = 300"
      ]
     },
     "metadata": {},
     "output_type": "display_data"
    }
   ],
   "source": [
    "% (internal) The price of a particular purchase is the number of items involved in that purchase,\n",
    "% multiplied by the cost of an item.\n",
    "purchase_price(PurchaseId, PurchasePrice) :-\n",
    "    purchase(P), _{id: PurchaseId, product_id: PI, quantity: Q} :< P,\n",
    "    product(Pr), _{id: PI, cost: Uprice} :< Pr,\n",
    "    PurchasePrice is Q*Uprice.\n",
    "?- purchase_price(1, X)."
   ]
  },
  {
   "cell_type": "code",
   "execution_count": 191,
   "id": "265b7219",
   "metadata": {},
   "outputs": [
    {
     "data": {
      "text/plain": [
       "% Asserting clauses for user:day_purchase_prices/2\n"
      ]
     },
     "metadata": {},
     "output_type": "display_data"
    },
    {
     "data": {
      "text/plain": [
       "\u001b[1mP = [(1,300),(2,105),(3,24)]"
      ]
     },
     "metadata": {},
     "output_type": "display_data"
    }
   ],
   "source": [
    "% (internal) The list of all purchases on a particular day, along with their prices.\n",
    "day_purchase_prices(Day, Plist) :- \n",
    "    findall(PurchaseId, (\n",
    "        purchase(Purch),\n",
    "        _{id: PurchaseId, quantity: Count, day_number: Day} :< Purch\n",
    "    ), DayPurchases),  % gather list of all purchases for the day\n",
    "    findall((PurchaseId, PurchasePrice), % then associate purchaseids with a purchaseprice\n",
    "        (\n",
    "            member(PurchaseId, DayPurchases), % for the purchaseids in the purchases of the day only\n",
    "            purchase_price(PurchaseId, PurchasePrice)\n",
    "        ),\n",
    "        Plist).\n",
    "\n",
    "?- day_purchase_prices(12, P)."
   ]
  },
  {
   "cell_type": "code",
   "execution_count": 192,
   "id": "8b877d4e",
   "metadata": {},
   "outputs": [
    {
     "data": {
      "text/plain": [
       "% Asserting clauses for user:cashflow/2\n"
      ]
     },
     "metadata": {},
     "output_type": "display_data"
    },
    {
     "data": {
      "text/plain": [
       "\u001b[1mX = 429"
      ]
     },
     "metadata": {},
     "output_type": "display_data"
    }
   ],
   "source": [
    "% The cashflow of a day is defined as the total sum of the purchases made on that day.\n",
    "cashflow(Day, Amount) :-\n",
    "    day_purchase_prices(Day, Plist), % First gather the list of purchases with their costs\n",
    "    findall(Cost, (\n",
    "        member((_, Cost), Plist),  % then extract the second item from each tuple\n",
    "        true\n",
    "    ),AmountList),  % and gather those into a list\n",
    "    sum_list(AmountList, Amount). % which is then folded\n",
    "\n",
    "?- cashflow(12, X)."
   ]
  },
  {
   "cell_type": "code",
   "execution_count": 193,
   "id": "6fc388fa",
   "metadata": {},
   "outputs": [
    {
     "data": {
      "text/plain": [
       "% Asserting clauses for user:client_purchase_prices/2\n"
      ]
     },
     "metadata": {},
     "output_type": "display_data"
    },
    {
     "data": {
      "text/plain": [
       "\u001b[1mX = [(1,300),(2,105),(3,24),(4,258),(5,25),(6,58),(7,300),(8,140),(9,90),(10,215),(11,120),(12,105),(13,120),(43,230),(44,300),(45,48),(46,144)]"
      ]
     },
     "metadata": {},
     "output_type": "display_data"
    }
   ],
   "source": [
    "% (internal) The list of purchases made by a specific client, along with their prices.\n",
    "client_purchase_prices(Cid, Plist) :- \n",
    "    client(C), _{phone: Cid} :< C,  % There must be a client with this id.\n",
    "    findall(PurchaseId, (\n",
    "        purchase(Purch),\n",
    "        _{id: PurchaseId, phone: Cid, quantity: Count} :< Purch\n",
    "    ), ClientPurchases),\n",
    "    findall((PurchaseId, PurchasePrice),\n",
    "        (\n",
    "            member(PurchaseId, ClientPurchases), % for the purchaseids in the purchases of the day only\n",
    "            purchase_price(PurchaseId, PurchasePrice)\n",
    "        ),\n",
    "        Plist).\n",
    "\n",
    "?- client_purchase_prices(\"+7 999 123 45 67\", X)."
   ]
  },
  {
   "cell_type": "code",
   "execution_count": 194,
   "id": "83b23170",
   "metadata": {},
   "outputs": [
    {
     "data": {
      "text/plain": [
       "% Asserting clauses for user:client_spent/2\n"
      ]
     },
     "metadata": {},
     "output_type": "display_data"
    },
    {
     "data": {
      "text/plain": [
       "\u001b[1mSpendings = [(+7 999 123 45 67,2582),(+7 926 987 65 43,2052),(+7 925 555 44 33,1334),(+7 965 432 10 98,4087)]"
      ]
     },
     "metadata": {},
     "output_type": "display_data"
    }
   ],
   "source": [
    "% The total sum paid by the client across all their purchases.\n",
    "client_spent(Cid, Amount) :-\n",
    "    client(C), _{phone: Cid} :< C,  % There must be a client with this id.\n",
    "    client_purchase_prices(Cid, Plist),\n",
    "    findall(Cost, member((_, Cost), Plist), AmtList),\n",
    "    sum_list(AmtList, Amount).\n",
    "?- findall((X,Y), client_spent(X,Y), Spendings)."
   ]
  },
  {
   "cell_type": "code",
   "execution_count": 195,
   "id": "812b531a",
   "metadata": {},
   "outputs": [
    {
     "data": {
      "text/plain": [
       "% Asserting clauses for user:client_tier/2\n"
      ]
     },
     "metadata": {},
     "output_type": "display_data"
    },
    {
     "data": {
      "text/plain": [
       "\u001b[1mCTiers = [(+7 999 123 45 67,silver),(+7 926 987 65 43,silver),(+7 925 555 44 33,bronze),(+7 965 432 10 98,platinum)]"
      ]
     },
     "metadata": {},
     "output_type": "display_data"
    }
   ],
   "source": [
    "% The client's tier is defined as the largest tier whose threshold the client's purchase sum has exceeded.\n",
    "client_tier(Cid, Tier) :-\n",
    "    client(C), _{phone: Cid} :< C,  % There must be a client with this id.\n",
    "    client_spent(Cid, Amount),  % Check how much the client spent\n",
    "    findall(PassedTierAmt, \n",
    "    (\n",
    "        tier(_, PassedTierAmt),  % Get all tier amounts\n",
    "        PassedTierAmt =< Amount  % that are smaller than that\n",
    "    ), PassedTierAmts),\n",
    "    max_list(PassedTierAmts, MaxTierAmt),  % then find the largest one\n",
    "    tier(Tier, MaxTierAmt).  % and return the tier corresponding to it\n",
    "    \n",
    "?- findall((X,Y), client_tier(X,Y), CTiers)."
   ]
  },
  {
   "cell_type": "code",
   "execution_count": 196,
   "id": "64cf1f38",
   "metadata": {},
   "outputs": [
    {
     "data": {
      "text/plain": [
       "% Asserting clauses for user:products_per_day/2\n"
      ]
     },
     "metadata": {},
     "output_type": "display_data"
    },
    {
     "data": {
      "text/plain": [
       "\u001b[1mX = [Филе индейки,Манная крупа,Сахар]"
      ]
     },
     "metadata": {},
     "output_type": "display_data"
    }
   ],
   "source": [
    "% The list of products per day is defined as the list of product names that feature in purchases for that day\n",
    "products_per_day(Day, ProductList) :- \n",
    "    findall(ProductId, (\n",
    "        purchase(Purch), _{product_id: ProductId, day_number: Day} :< Purch\n",
    "    ), ProductIdList),  % gather IDs\n",
    "    findall(ProductName, (\n",
    "        product(Prod), _{name: ProductName, id: Id} :< Prod, % then convert ID to name\n",
    "        member(Id, ProductIdList)\n",
    "    ), ProductList).\n",
    "?- products_per_day(13, X)."
   ]
  },
  {
   "cell_type": "code",
   "execution_count": 197,
   "id": "a1838794",
   "metadata": {},
   "outputs": [
    {
     "data": {
      "text/plain": [
       "% Asserting clauses for user:buyers_of_product/2\n"
      ]
     },
     "metadata": {},
     "output_type": "display_data"
    },
    {
     "data": {
      "text/plain": [
       "\u001b[1mAnswers = [(1,[Анна Иванова,Илья Петров,Сергей Кузнецов])]"
      ]
     },
     "metadata": {},
     "output_type": "display_data"
    },
    {
     "data": {
      "text/plain": [
       "\u001b[1mAnswers = [(20,[Анна Иванова,Сергей Кузнецов])]"
      ]
     },
     "metadata": {},
     "output_type": "display_data"
    }
   ],
   "source": [
    "% The list of clients per product is defined as the list of names of the clients for whom there exists a purchase\n",
    "% for the product with the given ID.\n",
    "buyers_of_product(Pid, Buyers) :- \n",
    "    findall(BuyerId, (\n",
    "        purchase(Purch), _{product_id: Pid, phone: BuyerId} :< Purch\n",
    "    ), BuyerIds),  % gather list of buyer IDs\n",
    "    list_to_set(BuyerIds, UniqBuyerIds),  % uniquify\n",
    "    findall(Name, (\n",
    "        client(C), _{phone: Bid, name: Name} :< C, % to names\n",
    "        member(Bid, UniqBuyerIds)\n",
    "    ), Buyers).\n",
    "\n",
    "?- findall((1, Names), buyers_of_product(1, Names), Answers).\n",
    "?- findall((20, Names), buyers_of_product(20, Names), Answers)."
   ]
  },
  {
   "cell_type": "code",
   "execution_count": 198,
   "id": "2b323514",
   "metadata": {},
   "outputs": [
    {
     "data": {
      "text/plain": [
       "% Asserting clauses for user:categories_by_client/2\n"
      ]
     },
     "metadata": {},
     "output_type": "display_data"
    },
    {
     "data": {
      "text/plain": [
       "\u001b[1mAnswers = [(+7 999 123 45 67,[Mолочный отдел,Овощи,Мясо,Бакалея]),(+7 926 987 65 43,[Mолочный отдел,Овощи,Мясо,Бакалея]),(+7 925 555 44 33,[Mолочный отдел,Овощи,Мясо,Бакалея]),(+7 965 432 10 98,[Mолочный отдел,Овощи,Бакалея])]"
      ]
     },
     "metadata": {},
     "output_type": "display_data"
    }
   ],
   "source": [
    "% The list of categories by client is defined as the list of product categories that this client has bought.\n",
    "categories_by_client(Cid, Cats) :-\n",
    "    findall(ProductId, (\n",
    "        purchase(Purch), _{phone: Cid, product_id: ProductId} :< Purch\n",
    "    ), ProductIds), % Gather list of categories\n",
    "    findall(Cat, (\n",
    "        member(Pid, ProductIds),  % for every product\n",
    "        product(Prod), _{id: Pid, category: Cat} :< Prod   % find its category\n",
    "    ), CatsMultiple),\n",
    "    list_to_set(CatsMultiple, Cats).\n",
    "?- findall((Cid, Cats), (client(C), _{phone: Cid} :< C, categories_by_client(Cid, Cats)), Answers)."
   ]
  },
  {
   "cell_type": "code",
   "execution_count": 199,
   "id": "29e1825f",
   "metadata": {},
   "outputs": [
    {
     "data": {
      "text/plain": [
       "% Asserting clauses for user:product_cats_internal/1\n"
      ]
     },
     "metadata": {},
     "output_type": "display_data"
    },
    {
     "data": {
      "text/plain": [
       "% Asserting clauses for user:product_category/1\n"
      ]
     },
     "metadata": {},
     "output_type": "display_data"
    },
    {
     "data": {
      "text/plain": [
       "\u001b[1mXs = [Mолочный отдел,Бакалея,Мясо,Овощи]"
      ]
     },
     "metadata": {},
     "output_type": "display_data"
    }
   ],
   "source": [
    "% A product category is defined as a (unique) category that a product has.\n",
    "\n",
    "product_cats_internal(Cats) :- findall(Cat, (product(Prod), _{category: Cat} :< Prod), CatsMulti), sort(CatsMulti, Cats).\n",
    "product_category(Cat) :- product_cats_internal(Cats), member(Cat, Cats).\n",
    "\n",
    "?- findall(X, product_category(X), Xs)."
   ]
  },
  {
   "cell_type": "code",
   "execution_count": 200,
   "id": "74812f2f",
   "metadata": {},
   "outputs": [
    {
     "data": {
      "text/plain": [
       "% Asserting clauses for user:example1/0\n"
      ]
     },
     "metadata": {},
     "output_type": "display_data"
    }
   ],
   "source": [
    "% ------ Examples ------\n",
    "example1:-\n",
    "    writeln(\"---- Example 1 ----\"),\n",
    "    writeln(\"Get list of repeat clients:\"),\n",
    "    setof(RepC, repeat_client(RepC), RepeatClients),\n",
    "    writeln(RepeatClients)."
   ]
  },
  {
   "cell_type": "code",
   "execution_count": 201,
   "id": "60f04986",
   "metadata": {},
   "outputs": [
    {
     "data": {
      "text/plain": [
       "% Asserting clauses for user:example2/0\n"
      ]
     },
     "metadata": {},
     "output_type": "display_data"
    }
   ],
   "source": [
    "example2 :-\n",
    "    writeln(\"---- Example 2 ----\"),\n",
    "    writeln(\"Get each client's total spending and tier:\"),\n",
    "    (\n",
    "        client(C), _{name: Name, phone: Id} :< C,\n",
    "        write(Name), write(\":\"),\n",
    "        client_spent(Id, Spent),\n",
    "        write(Spent), write(\":\"),\n",
    "        client_tier(Id, Tier),\n",
    "        write(Tier),\n",
    "        nl,\n",
    "        fail()\n",
    "    );\n",
    "    true."
   ]
  },
  {
   "cell_type": "code",
   "execution_count": 202,
   "id": "023f01cd",
   "metadata": {},
   "outputs": [
    {
     "data": {
      "text/plain": [
       "% Asserting clauses for user:example3/0\n"
      ]
     },
     "metadata": {},
     "output_type": "display_data"
    }
   ],
   "source": [
    "example3 :-\n",
    "    writeln(\"---- Example 3 ----\"),\n",
    "    writeln(\"Get the products purchased on every day:\"),\n",
    "    findall(Day,(purchase(Purch), _{day_number: Day} :< Purch), DaysMulti),\n",
    "    list_to_set(DaysMulti, Days),\n",
    "    (\n",
    "        member(Day, Days),\n",
    "        products_per_day(Day, ProductsMulti),\n",
    "        list_to_set(ProductsMulti, Products),\n",
    "        write(Day), write(\":\"), write(Products), nl, fail()\n",
    "    );\n",
    "    true."
   ]
  },
  {
   "cell_type": "code",
   "execution_count": 203,
   "id": "5e0a2ad5",
   "metadata": {},
   "outputs": [
    {
     "data": {
      "text/plain": [
       "% Asserting clauses for user:example4/0\n"
      ]
     },
     "metadata": {},
     "output_type": "display_data"
    }
   ],
   "source": [
    "example4 :-\n",
    "    writeln(\"---- Example 4 ----\"),\n",
    "    writeln(\"Get the cashflow for every day:\"),\n",
    "    findall(Day,(purchase(Purch), _{day_number: Day} :< Purch), DaysMulti),\n",
    "    list_to_set(DaysMulti, Days),\n",
    "    (\n",
    "        member(Day, Days),\n",
    "        cashflow(Day, Cash),\n",
    "        write(Day), write(\":\"), write(Cash), nl, fail()\n",
    "    );\n",
    "    true."
   ]
  },
  {
   "cell_type": "code",
   "execution_count": 204,
   "id": "531d8777",
   "metadata": {},
   "outputs": [
    {
     "data": {
      "text/plain": [
       "% Asserting clauses for user:example5/0\n"
      ]
     },
     "metadata": {},
     "output_type": "display_data"
    }
   ],
   "source": [
    "example5 :-\n",
    "    writeln(\"---- Example 5 ----\"),\n",
    "    writeln(\"Get the categories of product purchased by every client:\"),\n",
    "    writeln(\"(the last client does not purchase meat products)\"),\n",
    "    (\n",
    "        client(C), _{name: ClientName, phone: Cid} :< C,\n",
    "        categories_by_client(Cid, Cats),\n",
    "        write(ClientName), write(\":\"), write(Cats), nl, fail()\n",
    "    );\n",
    "    true."
   ]
  },
  {
   "cell_type": "code",
   "execution_count": 205,
   "id": "3eae8a1d",
   "metadata": {},
   "outputs": [
    {
     "data": {
      "text/plain": [
       "% Asserting clauses for user:example6/0\n"
      ]
     },
     "metadata": {},
     "output_type": "display_data"
    }
   ],
   "source": [
    "example6 :-\n",
    "    writeln(\"---- Example 6 ----\"),\n",
    "    writeln(\"Which categories does a client not buy?\"), fail;\n",
    "    (\n",
    "        product_category(Category), % Get a product category,\n",
    "        client(C), _{name: ClientName, phone: Cid} :< C,  % Then get a client,\n",
    "        \\+ (  % And make sure that\n",
    "            purchase(Purch), _{product_id: Pid, phone: Cid} :< Purch, % there is no purchase such\n",
    "            product(Prod), _{id: Pid, category: Category} :< Prod % that the product has the given category,\n",
    "        ),\n",
    "        write(\"Client \"), write(ClientName), write(\" does not buy category \"), write(Category), nl,\n",
    "        fail\n",
    "    );\n",
    "    true."
   ]
  },
  {
   "cell_type": "code",
   "execution_count": 206,
   "id": "1330538e",
   "metadata": {},
   "outputs": [
    {
     "data": {
      "text/plain": [
       "% Asserting clauses for user:say_hi/1\n"
      ]
     },
     "metadata": {},
     "output_type": "display_data"
    },
    {
     "data": {
      "text/plain": [
       "% Asserting clauses for user:product_info/2\n"
      ]
     },
     "metadata": {},
     "output_type": "display_data"
    },
    {
     "data": {
      "text/plain": [
       "% Asserting clauses for user:products_list/1\n"
      ]
     },
     "metadata": {},
     "output_type": "display_data"
    },
    {
     "data": {
      "text/plain": [
       "% Asserting clauses for user:product/3\n"
      ]
     },
     "metadata": {},
     "output_type": "display_data"
    },
    {
     "data": {
      "text/plain": [
       "% Asserting clauses for user:purchase_info/2\n"
      ]
     },
     "metadata": {},
     "output_type": "display_data"
    },
    {
     "data": {
      "text/plain": [
       "% Asserting clauses for user:purchases_list/1\n"
      ]
     },
     "metadata": {},
     "output_type": "display_data"
    },
    {
     "data": {
      "text/plain": [
       "% Asserting clauses for user:purchase/3\n"
      ]
     },
     "metadata": {},
     "output_type": "display_data"
    },
    {
     "data": {
      "text/plain": [
       "% Asserting clauses for user:client_info/2\n"
      ]
     },
     "metadata": {},
     "output_type": "display_data"
    },
    {
     "data": {
      "text/plain": [
       "% Asserting clauses for user:clients_list/1\n"
      ]
     },
     "metadata": {},
     "output_type": "display_data"
    },
    {
     "data": {
      "text/plain": [
       "% Asserting clauses for user:client/3\n"
      ]
     },
     "metadata": {},
     "output_type": "display_data"
    },
    {
     "data": {
      "text/plain": [
       "% Asserting clauses for user:product/2\n"
      ]
     },
     "metadata": {},
     "output_type": "display_data"
    },
    {
     "data": {
      "text/plain": [
       "% Asserting clauses for user:client/2\n"
      ]
     },
     "metadata": {},
     "output_type": "display_data"
    },
    {
     "data": {
      "text/plain": [
       "% Asserting clauses for user:purchase/2\n"
      ]
     },
     "metadata": {},
     "output_type": "display_data"
    },
    {
     "data": {
      "text/plain": [
       "% Asserting clauses for user:products_root/2\n"
      ]
     },
     "metadata": {},
     "output_type": "display_data"
    },
    {
     "data": {
      "text/plain": [
       "% Asserting clauses for user:purchases_root/2\n"
      ]
     },
     "metadata": {},
     "output_type": "display_data"
    },
    {
     "data": {
      "text/plain": [
       "% Asserting clauses for user:example7/0\n"
      ]
     },
     "metadata": {},
     "output_type": "display_data"
    }
   ],
   "source": [
    "say_hi(Request) :- \n",
    "    reply_json(_{\n",
    "        hello: world,\n",
    "        try_me: [\n",
    "            _{method: \"GET\", url:\"/purchases\"},\n",
    "            _{method: \"GET\", url:\"/clients\"},\n",
    "            _{method: \"GET\", url:\"/products\"},\n",
    "            _{method: \"GET\", url:\"/products/<:id>\", args: _{id: int}},\n",
    "            _{method: \"POST\", url:\"/products\", data: _{id: int, name: str, category: str, cost: int}},\n",
    "            _{method: \"POST\", url:\"/purchases\", data: _{id: int, phone: str, product_id: int, quantity: int, day: int}},\n",
    "            _{method: \"POST\", url:\"/clients\", data: _{phone: str, name: str}}\n",
    "\n",
    "        ]\n",
    "    }).\n",
    "\n",
    "product_info(Pid, Prod) :-\n",
    "    product(Prod), _{id: Pid} :< Prod.\n",
    "\n",
    "\n",
    "products_list(Request) :- \n",
    "    findall(Prod, product(Prod), Products),\n",
    "    reply_json(Products).\n",
    "\n",
    "product(get, ProductIdStr, Request) :-\n",
    "    atom_number(ProductIdStr, ProductId),\n",
    "    product_info(ProductId, Prod),\n",
    "    reply_json(Prod).\n",
    "\n",
    "purchase_info(Pid, Purch) :- \n",
    "    purchase(Purchinfo), _{id: Pid, phone: Cid, product_id: ProdId, quantity: Quantity, day_number: Day} :< Purchinfo,\n",
    "    client_info(Cid, Cli),\n",
    "    product_info(ProdId, Prod),\n",
    "    Purch = _{id: Pid, client_id: Cid, product_id: ProdId, quantity: Quantity, day: Day,\n",
    "        expand: _{\n",
    "            client: Cli,\n",
    "            product: Prod\n",
    "        }%,\n",
    "    }.\n",
    "\n",
    "purchases_list(Request) :-\n",
    "    findall(Purch, purchase_info(Pid, Purch), Purchases),\n",
    "    reply_json(Purchases).\n",
    "\n",
    "purchase(get, PurchaseIdStr, Request) :-\n",
    "    atom_number(PurchaseIdStr, PurchaseId),\n",
    "    purchase_info(PurchaseId, Purch),\n",
    "    reply_json(Purch).\n",
    "\n",
    "client_info(Cid, Cli) :- \n",
    "    client(_{name:Name, phone:Cid}),  % As an example, some properties of the client are being calculated here\n",
    "    client_spent(Cid, Amt),\n",
    "    client_tier(Cid, Tier),\n",
    "    Cli = _{name: Name, id: Cid, amount_spent: Amt, loyalty_tier: Tier}.\n",
    "\n",
    "clients_list(Request) :-\n",
    "    findall(Cli, client_info(Cid, Cli), Clients),\n",
    "    reply_json(Clients).\n",
    "\n",
    "client(get, ClientIdStr, Request) :-\n",
    "    atom_number(ClientIdStr, ClientId),\n",
    "    client_info(ClientId, Client),\n",
    "    reply_json(Client).\n",
    "    \n",
    "    \n",
    "\n",
    "product(post, Request) :-\n",
    "    http_read_json(Request, NewProduct, [json_object(dict)]),\n",
    "    _{id: IdStr, name: Name, category: Cat, cost: CostStr} :< NewProduct,\n",
    "    atom_number(IdStr, IdInt), atom_number(CostStr, CostInt),\n",
    "    assert(product(product_info{id: IdInt, name: Name, category: Cat, cost: CostInt})),\n",
    "    \n",
    "    format(string(Ref), \"/products/~d\", [IdInt]),\n",
    "    reply_json(_{status: ok, ref: Ref}).\n",
    "\n",
    "client(post, Request) :- \n",
    "    http_read_json(Request, NewClient, [json_object(dict)]),\n",
    "    _{name: Name, phone: Phone} :< NewClient,\n",
    "    assert(client(client_info{name: Name, phone: Phone})),\n",
    "    reply_json(_{status: ok}).\n",
    "\n",
    "\n",
    "purchase(post, Request) :-\n",
    "    http_read_json(Request, NewPurchase, [json_object(dict)]),\n",
    "    _{\n",
    "        id: IdStr,\n",
    "        phone: Phone,\n",
    "        quantity: QuantityStr,\n",
    "        day: DayNumberStr\n",
    "    } :< NewPurchase,\n",
    "    atom_number(IdStr, Id),\n",
    "    atom_number(ProductIdStr, ProductId),\n",
    "    atom_number(QuantityStr, Quantity),\n",
    "    atom_number(DayNumberStr, DayNumber),\n",
    "    assert(purchase(purchase_info{\n",
    "        id: Id, phone: Phone,\n",
    "        product_id: ProductId,\n",
    "        quantity: Quantity,\n",
    "        day: DayNumber\n",
    "    })),\n",
    "    format(string(Ref), \"/purchases/~d\", [Id]),\n",
    "    reply_json(_{status: ok, ref: Ref}).\n",
    "\n",
    "products_root(get, Request) :- products_list(Request).\n",
    "products_root(post, Request) :- product(post, Request).\n",
    "\n",
    "purchases_root(get, Request) :- purchases_list(Request).\n",
    "purchases_root(post, Request) :- purchase(post, Request).\n",
    "\n",
    "\n",
    "    \n",
    "\n",
    "example7 :- \n",
    "    writeln(\"---- Example 7 ----\"),\n",
    "    writeln(\"Run a simple HTTP server that returns JSON data about the database\"),\n",
    "    writeln(\"and allows adding new facts into the database (in memory only)\"),\n",
    "    fail;\n",
    "    \n",
    "% If the `run_web_server/0` is not defined, then exit early with a message.\n",
    "    \\+ current_predicate(run_web_server/0),\n",
    "    writeln(\"!!!!! The web server is disabled in the config. Assert `run_web_server/0` to enable it\"),\n",
    "    true;\n",
    "    \n",
    "% If it is defined and true, instantiate the server.\n",
    "    current_predicate(run_web_server/0),\n",
    "    run_web_server,\n",
    "    use_module(library(http/thread_httpd)),\n",
    "    use_module(library(http/http_dispatch)),\n",
    "    use_module(library(http/json_convert)),\n",
    "    use_module(library(http/http_json)),\n",
    "    http_handler(root(.), say_hi, []),\n",
    "    http_handler(root(products), products_root(Method), [methods([get, post])]),\n",
    "    http_handler(root(products/ProductId), product(get, ProductId), [methods([get])]),\n",
    "    http_handler(root(purchases), purchases_root(Method), [methods([get, post])]),\n",
    "    http_handler(root(purchases/PurchaseId), purchase(Methos, PurchaseId), [methods([get])]),\n",
    "    http_handler(root(clients), clients_root(Method), [methods([get, post])]),\n",
    "\n",
    "    \n",
    "    \n",
    "    \n",
    "    writeln(\"Starting server on port 8080!!\"),\n",
    "    http_server(http_dispatch, [port(8080)]),\n",
    "    writeln(\"Type any Prolog term then press Enter to stop...\"),\n",
    "    read(X)."
   ]
  },
  {
   "cell_type": "code",
   "execution_count": null,
   "id": "b11ff53e",
   "metadata": {},
   "outputs": [],
   "source": [
    "prolog :-\n",
    "    example1,\n",
    "    example2,\n",
    "    example3,\n",
    "    example4,\n",
    "    example5,\n",
    "    example6,\n",
    "    example7.\n",
    "?- prolog."
   ]
  },
  {
   "cell_type": "code",
   "execution_count": null,
   "id": "36db2004",
   "metadata": {},
   "outputs": [],
   "source": []
  },
  {
   "cell_type": "code",
   "execution_count": null,
   "id": "6b95a00b",
   "metadata": {},
   "outputs": [],
   "source": []
  }
 ],
 "metadata": {
  "kernelspec": {
   "display_name": "Prolog",
   "language": "prolog",
   "name": "prolog_kernel"
  },
  "language_info": {
   "codemirror_mode": "prolog",
   "file_extension": ".pl",
   "mimetype": "text/x-prolog",
   "name": "Prolog"
  }
 },
 "nbformat": 4,
 "nbformat_minor": 5
}
